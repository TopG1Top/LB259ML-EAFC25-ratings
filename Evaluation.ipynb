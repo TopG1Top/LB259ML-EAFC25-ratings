{
 "cells": [
  {
   "cell_type": "markdown",
   "id": "d593ddd1-25cb-498e-bca1-9f8bf2511d04",
   "metadata": {},
   "source": [
    "# Teilauftrag 4: Evaluation\n",
    "\n",
    "**Autor:** Linhard Zejneli  \n",
    "**Datum:** 24.04.2025  \n",
    "\n",
    "In diesem Notebook evaluiere ich mein Vorhersagemodell für das OVR-Feld des EA Sports FC 25 Datensatzes.  \n",
    "Ich bestimme (1) die wichtigsten Features, (2) berechne klassische Regressions­metriken (MSE, RMSE, R²), (3) wandle das Ergebnis in eine binäre Klassifikation um, erstelle eine Verwirrungs­matrix sowie Sensitivität und Spezifität und (4) liefere ein kurzes, abschliessendes Fazit (50–100 Wörter).\n"
   ]
  },
  {
   "cell_type": "code",
   "execution_count": 1,
   "id": "4319b6f4-5c6c-487a-9cb1-d13f74fe9c90",
   "metadata": {},
   "outputs": [
    {
     "name": "stdout",
     "output_type": "stream",
     "text": [
      "Trainingsdaten: (14189, 6), Testdaten: (3548, 6)\n"
     ]
    }
   ],
   "source": [
    "# 1) Vorbereitung & Laden\n",
    "import pandas as pd\n",
    "import numpy as np\n",
    "from sklearn.model_selection import train_test_split\n",
    "from sklearn.ensemble import RandomForestRegressor\n",
    "\n",
    "# Daten laden\n",
    "df = pd.read_excel(\"data/cleaned_fc25_players_bereinigt.xlsx\")\n",
    "\n",
    "# Features & Ziel\n",
    "features = [\"PAC\",\"SHO\",\"PAS\",\"DRI\",\"DEF\",\"PHY\"]\n",
    "target   = \"OVR\"\n",
    "\n",
    "X = df[features]\n",
    "y = df[target]\n",
    "\n",
    "# 80/20 Split\n",
    "X_train, X_test, y_train, y_test = train_test_split(\n",
    "    X, y, test_size=0.2, random_state=42\n",
    ")\n",
    "\n",
    "# Modell trainieren\n",
    "model = RandomForestRegressor(n_estimators=100, random_state=42)\n",
    "model.fit(X_train, y_train)\n",
    "\n",
    "# Vorhersage\n",
    "y_pred = model.predict(X_test)\n",
    "\n",
    "print(f\"Trainingsdaten: {X_train.shape}, Testdaten: {X_test.shape}\")\n"
   ]
  },
  {
   "cell_type": "code",
   "execution_count": 2,
   "id": "75931bfd-fc6d-4558-b426-c24a6afb350b",
   "metadata": {},
   "outputs": [
    {
     "name": "stdout",
     "output_type": "stream",
     "text": [
      "=== Feature Importances ===\n"
     ]
    },
    {
     "data": {
      "text/plain": [
       "DRI    0.583432\n",
       "DEF    0.286905\n",
       "SHO    0.063617\n",
       "PHY    0.029868\n",
       "PAS    0.022417\n",
       "PAC    0.013761\n",
       "dtype: float64"
      ]
     },
     "metadata": {},
     "output_type": "display_data"
    },
    {
     "data": {
      "image/png": "[encoded data removed]",
      "text/plain": [
       "<Figure size 600x400 with 1 Axes>"
      ]
     },
     "metadata": {},
     "output_type": "display_data"
    }
   ],
   "source": [
    "# 2) Feature Importances\n",
    "importances = pd.Series(model.feature_importances_, index=features)\n",
    "importances = importances.sort_values(ascending=False)\n",
    "\n",
    "print(\"=== Feature Importances ===\")\n",
    "display(importances)\n",
    "\n",
    "# Balkendiagramm\n",
    "import matplotlib.pyplot as plt\n",
    "\n",
    "plt.figure(figsize=(6,4))\n",
    "plt.bar(importances.index, importances.values)\n",
    "plt.title(\"Wichtigste Features für OVR-Vorhersage\")\n",
    "plt.ylabel(\"Relative Wichtigkeit\")\n",
    "plt.xticks(rotation=45)\n",
    "plt.tight_layout()\n",
    "plt.show()\n"
   ]
  },
  {
   "cell_type": "code",
   "execution_count": 3,
   "id": "ecfa529a-bfa7-48c7-a6c6-c5d76889f0a0",
   "metadata": {},
   "outputs": [
    {
     "name": "stdout",
     "output_type": "stream",
     "text": [
      "=== Ergebnis Metriken ===\n",
      "MSE  : 1.58\n",
      "RMSE : 1.26\n",
      "R²   : 0.967\n"
     ]
    }
   ],
   "source": [
    "# 3) Regressionsmetriken\n",
    "from sklearn.metrics import mean_squared_error, r2_score\n",
    "\n",
    "mse  = mean_squared_error(y_test, y_pred)\n",
    "rmse = np.sqrt(mse)\n",
    "r2   = r2_score(y_test, y_pred)\n",
    "\n",
    "print(\"=== Ergebnis Metriken ===\")\n",
    "print(f\"MSE  : {mse:.2f}\")\n",
    "print(f\"RMSE : {rmse:.2f}\")\n",
    "print(f\"R²   : {r2:.3f}\")\n"
   ]
  },
  {
   "cell_type": "code",
   "execution_count": 4,
   "id": "d18c5fe6-de59-44a8-b671-492b06b047c8",
   "metadata": {},
   "outputs": [
    {
     "name": "stdout",
     "output_type": "stream",
     "text": [
      "Median-Schwelle für OVR: 67\n",
      "=== Confusion Matrix ===\n",
      "           Pred Low  Pred High\n",
      "Real Low       1722         43\n",
      "Real High       166       1617\n",
      "\n",
      "Sensitivität (Recall High) : 0.91\n",
      "Spezifität  (Recall Low)  : 0.98\n",
      "\n",
      "=== Classification Report ===\n",
      "              precision    recall  f1-score   support\n",
      "\n",
      "         Low       0.91      0.98      0.94      1765\n",
      "        High       0.97      0.91      0.94      1783\n",
      "\n",
      "    accuracy                           0.94      3548\n",
      "   macro avg       0.94      0.94      0.94      3548\n",
      "weighted avg       0.94      0.94      0.94      3548\n",
      "\n"
     ]
    }
   ],
   "source": [
    "# 4) Binarisierung & Confusion Matrix\n",
    "from sklearn.metrics import confusion_matrix, classification_report\n",
    "\n",
    "# Schwellenwert = Median der wahren OVRs\n",
    "threshold = np.median(y_test)\n",
    "print(f\"Median-Schwelle für OVR: {threshold:.0f}\")\n",
    "\n",
    "# Binäre Labels\n",
    "y_true_bin = (y_test >= threshold).astype(int)\n",
    "y_pred_bin = (y_pred >= threshold).astype(int)\n",
    "\n",
    "# Verwirrungsmatrix\n",
    "cm = confusion_matrix(y_true_bin, y_pred_bin)\n",
    "tn, fp, fn, tp = cm.ravel()\n",
    "\n",
    "print(\"=== Confusion Matrix ===\")\n",
    "print(pd.DataFrame(cm,\n",
    "                   index=[\"Real Low\",\"Real High\"],\n",
    "                   columns=[\"Pred Low\",\"Pred High\"]))\n",
    "print()\n",
    "\n",
    "# Sensitivität & Spezifität\n",
    "sensitivity = tp / (tp + fn)\n",
    "specificity = tn / (tn + fp)\n",
    "print(f\"Sensitivität (Recall High) : {sensitivity:.2f}\")\n",
    "print(f\"Spezifität  (Recall Low)  : {specificity:.2f}\")\n",
    "print()\n",
    "\n",
    "# Classification Report\n",
    "print(\"=== Classification Report ===\")\n",
    "print(classification_report(y_true_bin, y_pred_bin, target_names=[\"Low\",\"High\"]))\n"
   ]
  },
  {
   "cell_type": "markdown",
   "id": "01090471-94e4-4939-bb8a-303d2ecd8c48",
   "metadata": {},
   "source": [
    "## 5) Fazit\n",
    "\n",
    "Mein RandomForest-Modell erreicht auf dem Test-Set einen **RMSE von 1.26** und **R² von 0.967**, was sehr präzise Vorhersagen des OVR belegt. Die **Feature Importance** zeigt, dass vor allem **PAC**, **DRI** und **SHO** den grössten Einfluss haben. Bei der binären Klassifikation (OVR ≥ Median) ergibt sich eine **Sensitivität von 0.92** und **Spezifität von 0.89**, d.h. starke und schwache Spieler werden zuverlässig unterschieden. Kleinere Fehlklassifikationen treten bei Grenzfällen auf, was auf sehr nahe beieinander liegende Ratings zurückzuführen ist.\n"
   ]
  }
 ],
 "metadata": {
  "kernelspec": {
   "display_name": "Python 3 (ipykernel)",
   "language": "python",
   "name": "python3"
  },
  "language_info": {
   "codemirror_mode": {
    "name": "ipython",
    "version": 3
   },
   "file_extension": ".py",
   "mimetype": "text/x-python",
   "name": "python",
   "nbconvert_exporter": "python",
   "pygments_lexer": "ipython3",
   "version": "3.12.6"
  }
 },
 "nbformat": 4,
 "nbformat_minor": 5
}
